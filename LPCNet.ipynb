{
  "cells": [
    {
      "cell_type": "markdown",
      "metadata": {
        "id": "PnxHqaok-gvH"
      },
      "source": [
        "# LPCNet\n",
        "[![Generic badge](https://img.shields.io/badge/GitHub-LPCNet-9cf.svg)][github]\n",
        "[![Open In Colab](https://colab.research.google.com/assets/colab-badge.svg)][notebook]  \n",
        "LPCNet inference demo  \n",
        "\n",
        "[github]:https://github.com/tarepan/LPCNet\n",
        "[notebook]:https://colab.research.google.com/github/tarepan/LPCNet/blob/master/LPCNet.ipynb"
      ]
    },
    {
      "cell_type": "markdown",
      "metadata": {},
      "source": [
        "## Env Check"
      ]
    },
    {
      "cell_type": "code",
      "execution_count": null,
      "metadata": {},
      "outputs": [],
      "source": [
        "!cat /proc/uptime | awk '{print $1 /60 /60 /24 \"days (\" $1 \"sec)\"}'\n",
        "!head -n 1 /proc/driver/nvidia/gpus/**/information\n",
        "!python --version\n",
        "!pip show torch | sed '2!d'\n",
        "!/usr/local/cuda/bin/nvcc --version | sed '4!d'"
      ]
    },
    {
      "cell_type": "markdown",
      "metadata": {
        "id": "LtRLE5nJUjee"
      },
      "source": [
        "## Setup"
      ]
    },
    {
      "cell_type": "code",
      "execution_count": null,
      "metadata": {},
      "outputs": [],
      "source": [
        "# GoogleDrive\n",
        "from google.colab import drive\n",
        "drive.mount('/content/gdrive')"
      ]
    },
    {
      "cell_type": "code",
      "execution_count": null,
      "metadata": {
        "id": "XVCIBxBBRm6w"
      },
      "outputs": [],
      "source": [
        "!apt install autoconf automake libtool\n",
        "!git clone https://github.com/tarepan/LPCNet.git\n",
        "%cd LPCNet\n",
        "\n",
        "!pip install https://github.com/tarepan/speechdatasety"
      ]
    },
    {
      "cell_type": "markdown",
      "metadata": {},
      "source": [
        "Only If you need pretrained model,"
      ]
    },
    {
      "cell_type": "code",
      "execution_count": null,
      "metadata": {},
      "outputs": [],
      "source": [
        "# Step 0 - Model data\n",
        "!./download_model.sh"
      ]
    },
    {
      "cell_type": "markdown",
      "metadata": {},
      "source": [
        "### Build"
      ]
    },
    {
      "cell_type": "code",
      "execution_count": null,
      "metadata": {},
      "outputs": [],
      "source": [
        "# Step 1 - Env\n",
        "%env CFLAGS=-Ofast -g -march=native\n",
        "!echo $CFLAGS\n",
        "\n",
        "# Step 2 - Build\n",
        "!./autogen.sh    # Latest model download & `autoreconf`\n",
        "!./configure     # Run the generated configure script\n",
        "!make"
      ]
    },
    {
      "cell_type": "markdown",
      "metadata": {
        "id": "1uNsXmppBCQc"
      },
      "source": [
        "## Inference"
      ]
    },
    {
      "cell_type": "markdown",
      "metadata": {
        "id": "jNzxHJyBA-Dg"
      },
      "source": [
        "### Setup"
      ]
    },
    {
      "cell_type": "markdown",
      "metadata": {
        "id": "b8oWrjoDWcua"
      },
      "source": [
        "Input preparation (wav file => pcm blob file)"
      ]
    },
    {
      "cell_type": "code",
      "execution_count": null,
      "metadata": {
        "id": "H1it2NAuVK6z"
      },
      "outputs": [],
      "source": [
        "import librosa\n",
        "import numpy as np\n",
        "\n",
        "from speechdatasety.helper.process import unit_to_s16pcm\n",
        "\n",
        "\n",
        "# ========= Change this wave path =========\n",
        "p = \"../test_02.wav\"\n",
        "# =========================================\n",
        "\n",
        "\n",
        "# `i_inference_wave.s16` should be 16bit/16kHz PCM\n",
        "audio_unit, _ = librosa.load(p, sr=16000, mono=True)\n",
        "audio_s16 = unit_to_s16pcm(audio_unit)\n",
        "audio_s16.tofile(\"./i_inference_wave.s16\")"
      ]
    },
    {
      "cell_type": "markdown",
      "metadata": {
        "id": "IXPrfRZ0A0NE"
      },
      "source": [
        "### Demo - Speech Compression\n",
        "wave -> (compression) -> codes -> (decompression) -> wave"
      ]
    },
    {
      "cell_type": "code",
      "execution_count": null,
      "metadata": {
        "id": "s5XlePmGA27w"
      },
      "outputs": [],
      "source": [
        "# Encode `i_inference_wave.s16` (16bit/16kHz PCM, machine endian)\n",
        "#   to `compressed.bin` (8 bytes per 40-ms packet, raw, no header)\n",
        "!./lpcnet_demo -encode i_inference_wave.s16 compressed.bin\n",
        "\n",
        "# Decode `compressed.bin` to `output.pcm` (16bit/16kHz PCM)\n",
        "!./lpcnet_demo -decode compressed.bin output.pcm\n",
        "\n",
        "\n",
        "from IPython.display import Audio, display\n",
        "\n",
        "i = np.fromfile(\"./i_inference_wave.s16\",  dtype=np.int16)\n",
        "o = np.fromfile(\"./output.pcm\", dtype=np.int16)\n",
        "\n",
        "print(\"Before:\")\n",
        "display(Audio(i,   rate=16000))\n",
        "print(\"After:\")\n",
        "display(Audio(o,   rate=16000))"
      ]
    },
    {
      "cell_type": "markdown",
      "metadata": {
        "id": "5o4RurC_Rw8O"
      },
      "source": [
        "### Demo - Speech Synthesis\n",
        "wave -> (analysis) -> uncompressed_feature -> (synthesis) -> wave"
      ]
    },
    {
      "cell_type": "code",
      "execution_count": null,
      "metadata": {
        "id": "Ax_lO4NUR0Wn"
      },
      "outputs": [],
      "source": [
        "import time\n",
        "\n",
        "\n",
        "# (maybe) Feature-rize\n",
        "!./lpcnet_demo -features  i_inference_wave.s16 uncompressed.bin\n",
        "\n",
        "# Synthesis\n",
        "t_start = time.perf_counter()\n",
        "!./lpcnet_demo -synthesis uncompressed.bin output_resynth.pcm\n",
        "t_end = time.perf_counter()\n",
        "t_sec = t_end - t_start\n",
        "\n",
        "\n",
        "from IPython.display import Audio, display\n",
        "\n",
        "i = np.fromfile(\"./i_inference_wave.s16\", dtype=np.int16)\n",
        "o = np.fromfile(\"./output_resynth.pcm\",   dtype=np.int16)\n",
        "\n",
        "print(\"Before:\")\n",
        "display(Audio(i,   rate=16000))\n",
        "print(\"After:\")\n",
        "display(Audio(o,   rate=16000))\n",
        "\n",
        "\n",
        "sr=16000\n",
        "audio_length_sec = o.shape[0] / sr\n",
        "print(f\"time: {round(t_sec, 2)} sec for {round(audio_length_sec, 2)} sec audio\")\n",
        "print(f\"RTF: {round(t_sec/audio_length_sec, 2)}\")"
      ]
    },
    {
      "cell_type": "markdown",
      "metadata": {},
      "source": [
        "## Training"
      ]
    },
    {
      "cell_type": "markdown",
      "metadata": {},
      "source": [
        "### Preprocessing"
      ]
    },
    {
      "cell_type": "markdown",
      "metadata": {},
      "source": []
    },
    {
      "cell_type": "code",
      "execution_count": null,
      "metadata": {},
      "outputs": [],
      "source": [
        "!pip install git+https://github.com/tarepan/speechcorpusy.git"
      ]
    },
    {
      "cell_type": "code",
      "execution_count": null,
      "metadata": {},
      "outputs": [],
      "source": [
        "import librosa\n",
        "import numpy as np\n",
        "import soundfile as sf\n",
        "import resampy\n",
        "from speechcorpusy import load_preset\n",
        "from speechdatasety.helper.process import unit_to_s16pcm\n",
        "\n",
        "\n",
        "corpus = load_preset(\"Act100TKYM\", root=\"/content/gdrive/MyDrive/ML_data\")\n",
        "corpus.get_contents()\n",
        "all_utterances = corpus.get_identities()\n",
        "\n",
        "\n",
        "path_outfile = \"./train_pcm.s16\"\n",
        "sr_target = 16000\n",
        "# `train_pcm.s16` should be 16bit/16kHz PCM\n",
        "with open(path_outfile, mode=\"ab\") as f:\n",
        "    for p in map(lambda item_id: corpus.get_item_path(item_id), all_utterances):\n",
        "        wave_unit, _ = librosa.load(p, sr=sr_target, mono=True)\n",
        "        wave_s16 = unit_to_s16pcm(wave_unit)\n",
        "        # Append headless 16-bit PCM\n",
        "        wave_s16.tofile(f)"
      ]
    },
    {
      "cell_type": "code",
      "execution_count": null,
      "metadata": {},
      "outputs": [],
      "source": [
        "!./dump_data -train train_pcm.s16 train_features.f32 train_waves.s16"
      ]
    },
    {
      "cell_type": "markdown",
      "metadata": {},
      "source": [
        "### Train"
      ]
    },
    {
      "cell_type": "code",
      "execution_count": null,
      "metadata": {},
      "outputs": [],
      "source": [
        "# Launch TensorBoard\n",
        "%load_ext tensorboard\n",
        "%tensorboard --logdir /content/gdrive/MyDrive/ML_results/lpcnet/original\n",
        "\n",
        "# FromScratch\n",
        "!python ./training_tf2/train_lpcnet.py \\\n",
        "    train_features.f32 train_waves.s16 \\\n",
        "    /content/gdrive/MyDrive/ML_results/lpcnet/original/test_01/original \\\n",
        "    # --batch-size=64\n",
        "\n",
        "# Resume\n",
        "# !python ./training_tf2/train_lpcnet.py \\\n",
        "#     train_features.f32 train_waves.s16 \\\n",
        "#     /content/gdrive/MyDrive/ML_results/lpcnet/original/test_01/original \\\n",
        "#     --resume-model=ckpt_02.h5 --from-epoch=2 --from-step=5000 # --batch-size=64"
      ]
    },
    {
      "cell_type": "markdown",
      "metadata": {},
      "source": [
        "### Dump for Inference"
      ]
    },
    {
      "cell_type": "code",
      "execution_count": null,
      "metadata": {},
      "outputs": [],
      "source": [
        "!python training_tf2/dump_lpcnet.py /content/gdrive/MyDrive/ML_results/lpcnet/original/test_01/<ckpt>.h5\n",
        "\n",
        "!rm ./src/nnet_data.c ./src/nnet_data.h\n",
        "!cp nnet_data.c nnet_data.h ./src\n",
        "!ls src"
      ]
    }
  ],
  "metadata": {
    "colab": {
      "collapsed_sections": [],
      "name": "LPCNet.ipynb",
      "private_outputs": true,
      "provenance": []
    },
    "kernelspec": {
      "display_name": "Python 3.7.13 64-bit",
      "language": "python",
      "name": "python3"
    },
    "language_info": {
      "name": "python",
      "version": "3.7.13"
    },
    "vscode": {
      "interpreter": {
        "hash": "949777d72b0d2535278d3dc13498b2535136f6dfe0678499012e853ee9abcab1"
      }
    }
  },
  "nbformat": 4,
  "nbformat_minor": 0
}
