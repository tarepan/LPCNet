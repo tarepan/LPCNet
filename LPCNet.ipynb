{
  "cells": [
    {
      "cell_type": "markdown",
      "metadata": {
        "id": "PnxHqaok-gvH"
      },
      "source": [
        "# LPCNet\n",
        "[![Generic badge](https://img.shields.io/badge/GitHub-LPCNet-9cf.svg)][github]\n",
        "[![Open In Colab](https://colab.research.google.com/assets/colab-badge.svg)][notebook]  \n",
        "LPCNet inference demo  \n",
        "\n",
        "[github]:https://github.com/tarepan/LPCNet\n",
        "[notebook]:https://colab.research.google.com/github/tarepan/LPCNet/blob/master/LPCNet.ipynb"
      ]
    },
    {
      "cell_type": "markdown",
      "metadata": {},
      "source": [
        "## Env Check"
      ]
    },
    {
      "cell_type": "code",
      "execution_count": null,
      "metadata": {
        "vscode": {
          "languageId": "python"
        }
      },
      "outputs": [],
      "source": [
        "!cat /proc/uptime | awk '{print $1 /60 /60 /24 \"days (\" $1 \"sec)\"}'\n",
        "!head -n 1 /proc/driver/nvidia/gpus/**/information\n",
        "!python --version\n",
        "!pip show torch | sed '2!d'\n",
        "!/usr/local/cuda/bin/nvcc --version | sed '4!d'"
      ]
    },
    {
      "cell_type": "markdown",
      "metadata": {
        "id": "LtRLE5nJUjee"
      },
      "source": [
        "## Setup"
      ]
    },
    {
      "cell_type": "code",
      "execution_count": null,
      "metadata": {
        "vscode": {
          "languageId": "python"
        }
      },
      "outputs": [],
      "source": [
        "# GoogleDrive\n",
        "from google.colab import drive\n",
        "drive.mount('/content/gdrive')"
      ]
    },
    {
      "cell_type": "code",
      "execution_count": null,
      "metadata": {
        "id": "XVCIBxBBRm6w",
        "vscode": {
          "languageId": "python"
        }
      },
      "outputs": [],
      "source": [
        "!apt install autoconf automake libtool\n",
        "!git clone https://github.com/tarepan/LPCNet.git\n",
        "%cd LPCNet"
      ]
    },
    {
      "cell_type": "markdown",
      "metadata": {},
      "source": [
        "Only If you need pretrained model,"
      ]
    },
    {
      "cell_type": "code",
      "execution_count": null,
      "metadata": {
        "vscode": {
          "languageId": "python"
        }
      },
      "outputs": [],
      "source": [
        "# Step 0 - Model data\n",
        "!./download_model.sh"
      ]
    },
    {
      "cell_type": "markdown",
      "metadata": {
        "id": "1uNsXmppBCQc"
      },
      "source": [
        "## Inference"
      ]
    },
    {
      "cell_type": "markdown",
      "metadata": {
        "id": "jNzxHJyBA-Dg"
      },
      "source": [
        "### Setup"
      ]
    },
    {
      "cell_type": "markdown",
      "metadata": {
        "id": "ZNpaxJJCWvMd"
      },
      "source": [
        "Build"
      ]
    },
    {
      "cell_type": "code",
      "execution_count": null,
      "metadata": {
        "id": "VpyncooKAUm2",
        "vscode": {
          "languageId": "python"
        }
      },
      "outputs": [],
      "source": [
        "# Step 1 - Env\n",
        "%env CFLAGS=-Ofast -g -march=native\n",
        "!echo $CFLAGS\n",
        "\n",
        "# Step 2 - Build\n",
        "!./autogen.sh    # Latest model download & `autoreconf`\n",
        "!./configure     # Run the generated configure script\n",
        "!make"
      ]
    },
    {
      "cell_type": "markdown",
      "metadata": {
        "id": "b8oWrjoDWcua"
      },
      "source": [
        "Input preparation (wav file => pcm blob file)"
      ]
    },
    {
      "cell_type": "code",
      "execution_count": null,
      "metadata": {
        "id": "H1it2NAuVK6z",
        "vscode": {
          "languageId": "python"
        }
      },
      "outputs": [],
      "source": [
        "import librosa\n",
        "import numpy as np\n",
        "\n",
        "\n",
        "# ========= Change this wave path =========\n",
        "p = \"../test_02.wav\"\n",
        "# =========================================\n",
        "\n",
        "\n",
        "def clamp_int16(x: int) -> int:\n",
        "  \"\"\"Clamp int within int16.\n",
        "\n",
        "  `numpy.short`: 16-bit signed integer, {x∈ℤ|-32768≦x≦32767}\n",
        "  \"\"\"\n",
        "  return min([max([x, -32768]), 32767])\n",
        "\n",
        "def audio_sample_fp32_to_int16(sample: float) -> int:\n",
        "  \"\"\"[-1, 1) to [-2^15, 2^15)\"\"\"\n",
        "  return clamp_int16(round(2**15 * sample))\n",
        "\n",
        "def audio_fp32_to_int16(audio):\n",
        "  return np.array([audio_sample_fp32_to_int16(s) for s in audio], dtype=np.int16)\n",
        "\n",
        "\n",
        "# `input.pcm` should be 16bit/16kHz PCM\n",
        "audio_float, sr = librosa.load(p, sr=16000, mono=True)\n",
        "audio_pcm = audio_fp32_to_int16(audio_float)\n",
        "print(audio_pcm)\n",
        "audio_pcm.tofile(\"./input.pcm\")"
      ]
    },
    {
      "cell_type": "markdown",
      "metadata": {
        "id": "IXPrfRZ0A0NE"
      },
      "source": [
        "### Demo - Speech Compression\n",
        "wave -> (compression) -> codes -> (decompression) -> wave"
      ]
    },
    {
      "cell_type": "code",
      "execution_count": null,
      "metadata": {
        "id": "s5XlePmGA27w",
        "vscode": {
          "languageId": "python"
        }
      },
      "outputs": [],
      "source": [
        "# Encode `input.pcm` (16bit/16kHz PCM, machine endian)\n",
        "#   to `compressed.bin` (8 bytes per 40-ms packet, raw, no header)\n",
        "!./lpcnet_demo -encode input.pcm compressed.bin\n",
        "\n",
        "# Decode `compressed.bin` to `output.pcm` (16bit/16kHz PCM)\n",
        "!./lpcnet_demo -decode compressed.bin output.pcm\n",
        "\n",
        "\n",
        "from IPython.display import Audio, display\n",
        "\n",
        "i = np.fromfile(\"./input.pcm\",  dtype=np.int16)\n",
        "o = np.fromfile(\"./output.pcm\", dtype=np.int16)\n",
        "\n",
        "print(\"Before:\")\n",
        "display(Audio(i,   rate=16000))\n",
        "print(\"After:\")\n",
        "display(Audio(o,   rate=16000))"
      ]
    },
    {
      "cell_type": "markdown",
      "metadata": {
        "id": "5o4RurC_Rw8O"
      },
      "source": [
        "### Demo - Speech Synthesis\n",
        "wave -> (analysis) -> uncompressed_feature -> (synthesis) -> wave"
      ]
    },
    {
      "cell_type": "code",
      "execution_count": null,
      "metadata": {
        "id": "Ax_lO4NUR0Wn",
        "vscode": {
          "languageId": "python"
        }
      },
      "outputs": [],
      "source": [
        "import time\n",
        "\n",
        "\n",
        "# (maybe) Feature-rize\n",
        "!./lpcnet_demo -features  input.pcm uncompressed.bin\n",
        "\n",
        "# Synthesis\n",
        "t_start = time.perf_counter()\n",
        "!./lpcnet_demo -synthesis uncompressed.bin output_resynth.pcm\n",
        "t_end = time.perf_counter()\n",
        "t_sec = t_end - t_start\n",
        "\n",
        "\n",
        "from IPython.display import Audio, display\n",
        "\n",
        "i = np.fromfile(\"./input.pcm\",          dtype=np.int16)\n",
        "o = np.fromfile(\"./output_resynth.pcm\", dtype=np.int16)\n",
        "\n",
        "print(\"Before:\")\n",
        "display(Audio(i,   rate=16000))\n",
        "print(\"After:\")\n",
        "display(Audio(o,   rate=16000))\n",
        "\n",
        "\n",
        "sr=16000\n",
        "audio_length_sec = o.shape[0] / sr\n",
        "print(f\"time: {round(t_sec, 2)} sec for {round(audio_length_sec, 2)} sec audio\")\n",
        "print(f\"RTF: {round(t_sec/audio_length_sec, 2)}\")"
      ]
    },
    {
      "cell_type": "markdown",
      "metadata": {
        "id": "4PHYngH6KGqZ"
      },
      "source": [
        "## -"
      ]
    },
    {
      "cell_type": "code",
      "execution_count": null,
      "metadata": {
        "id": "6iC1n_lJKGCH",
        "vscode": {
          "languageId": "python"
        }
      },
      "outputs": [],
      "source": [
        "def clamp_int16(x: int) -> int:\n",
        "  return min([max([x, -32768]), 32767])\n",
        "\n",
        "print(\"test start...\")\n",
        "assert clamp_int16(-32769) == -32768, \"clamp_int16 work wrong\"\n",
        "assert clamp_int16(-32768) == -32768, \"clamp_int16 work wrong\"\n",
        "assert clamp_int16(-32767) == -32767, \"clamp_int16 work wrong\"\n",
        "assert clamp_int16(     0) ==      0, \"clamp_int16 work wrong\"\n",
        "assert clamp_int16(     1) ==      1, \"clamp_int16 work wrong\"\n",
        "assert clamp_int16( 32766) ==  32766, \"clamp_int16 work wrong\"\n",
        "assert clamp_int16( 32767) ==  32767, \"clamp_int16 work wrong\"\n",
        "assert clamp_int16( 32768) ==  32767, \"clamp_int16 work wrong\"\n",
        "print(\"test finished.\")"
      ]
    },
    {
      "cell_type": "markdown",
      "metadata": {},
      "source": [
        "## Training"
      ]
    },
    {
      "cell_type": "markdown",
      "metadata": {},
      "source": [
        "### Preprocessing"
      ]
    },
    {
      "cell_type": "markdown",
      "metadata": {},
      "source": []
    },
    {
      "cell_type": "code",
      "execution_count": null,
      "metadata": {
        "vscode": {
          "languageId": "python"
        }
      },
      "outputs": [],
      "source": [
        "!pip install git+https://github.com/tarepan/speechcorpusy.git"
      ]
    },
    {
      "cell_type": "code",
      "execution_count": null,
      "metadata": {
        "vscode": {
          "languageId": "python"
        }
      },
      "outputs": [],
      "source": [
        "import librosa\n",
        "import numpy as np\n",
        "import soundfile as sf\n",
        "import resampy\n",
        "from speechcorpusy import load_preset\n",
        "\n",
        "\n",
        "corpus = load_preset(\"Act100TKYM\", root=\"/content/gdrive/MyDrive/ML_data\")\n",
        "corpus.get_contents()\n",
        "all_utterances = corpus.get_identities()\n",
        "\n",
        "\n",
        "path_outfile = \"./train_pcm.s16\"\n",
        "sr_target = 16000\n",
        "\n",
        "with open(path_outfile, mode=\"ab\") as f:\n",
        "  for p in map(lambda item_id: corpus.get_item_path(item_id), all_utterances):\n",
        "\n",
        "    wave_int16, sr_source = sf.read(p, dtype='int16')\n",
        "    # todo: force mono\n",
        "    wave_int16_16k = resampy.resample(wave_int16, sr_source, sr_target)\n",
        "    # Append headless 16-bit PCM\n",
        "    wave_int16_16k.tofile(f)"
      ]
    },
    {
      "cell_type": "code",
      "execution_count": null,
      "metadata": {
        "vscode": {
          "languageId": "python"
        }
      },
      "outputs": [],
      "source": [
        "!./dump_data -train train_pcm.s16 train_features.f32 train_waves.s16"
      ]
    },
    {
      "cell_type": "markdown",
      "metadata": {},
      "source": [
        "### Train"
      ]
    },
    {
      "cell_type": "code",
      "execution_count": null,
      "metadata": {
        "vscode": {
          "languageId": "python"
        }
      },
      "outputs": [],
      "source": [
        "!python ./training_tf2/train_lpcnet.py train_features.f32 train_waves.s16 <exp_name_prefix> # --batch-size=64\n",
        "# !python ./training_tf2/train_lpcnet.py train_features.f32 train_waves.s16 <exp_name_prefix>  --resume-model=ckpt_02.h5 --from-epoch=2 --from-step=5000 # --batch-size=64 "
      ]
    },
    {
      "cell_type": "code",
      "execution_count": null,
      "metadata": {
        "vscode": {
          "languageId": "python"
        }
      },
      "outputs": [],
      "source": [
        "!python training_tf2/dump_lpcnet.py /content/gdrive/MyDrive/ML_results/<ckpt>.h5\n",
        "\n",
        "!rm ./src/nnet_data.c ./src/nnet_data.h\n",
        "!cp nnet_data.c nnet_data.h ./src\n",
        "!ls src"
      ]
    }
  ],
  "metadata": {
    "colab": {
      "collapsed_sections": [],
      "name": "LPCNet.ipynb",
      "private_outputs": true,
      "provenance": []
    },
    "kernelspec": {
      "display_name": "Python 3",
      "name": "python3"
    }
  },
  "nbformat": 4,
  "nbformat_minor": 0
}
