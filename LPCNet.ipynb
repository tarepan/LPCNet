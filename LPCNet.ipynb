{
  "cells": [
    {
      "cell_type": "markdown",
      "source": [
        "# LPCNet\n",
        "[![Generic badge](https://img.shields.io/badge/GitHub-LPCNet-9cf.svg)][github]\n",
        "[![Open In Colab](https://colab.research.google.com/assets/colab-badge.svg)][notebook]  \n",
        "LPCNet inference demo  \n",
        "\n",
        "[github]:https://github.com/tarepan/LPCNet\n",
        "[notebook]:https://colab.research.google.com/github/tarepan/LPCNet/blob/master/LPCNet.ipynb"
      ],
      "metadata": {
        "id": "PnxHqaok-gvH"
      }
    },
    {
      "cell_type": "markdown",
      "source": [
        "## Setup"
      ],
      "metadata": {
        "id": "LtRLE5nJUjee"
      }
    },
    {
      "cell_type": "code",
      "source": [
        "!apt install autoconf automake libtool\n",
        "!git clone https://github.com/tarepan/LPCNet.git\n",
        "%cd LPCNet"
      ],
      "metadata": {
        "id": "XVCIBxBBRm6w"
      },
      "execution_count": null,
      "outputs": []
    },
    {
      "cell_type": "markdown",
      "source": [
        "## Inference"
      ],
      "metadata": {
        "id": "1uNsXmppBCQc"
      }
    },
    {
      "cell_type": "markdown",
      "source": [
        "### Setup"
      ],
      "metadata": {
        "id": "jNzxHJyBA-Dg"
      }
    },
    {
      "cell_type": "markdown",
      "source": [
        "Build"
      ],
      "metadata": {
        "id": "ZNpaxJJCWvMd"
      }
    },
    {
      "cell_type": "code",
      "source": [
        "# Step 1 - Env\n",
        "%env CFLAGS=-Ofast -g -march=native\n",
        "!echo $CFLAGS\n",
        "\n",
        "# Step 2 - Build\n",
        "!./autogen.sh    # Latest model download & `autoreconf`\n",
        "!./configure     # Run the generated configure script\n",
        "!make"
      ],
      "metadata": {
        "id": "VpyncooKAUm2"
      },
      "execution_count": null,
      "outputs": []
    },
    {
      "cell_type": "markdown",
      "source": [
        "Input preparation (wav file => pcm blob file)"
      ],
      "metadata": {
        "id": "b8oWrjoDWcua"
      }
    },
    {
      "cell_type": "code",
      "source": [
        "import librosa\n",
        "import numpy as np\n",
        "\n",
        "\n",
        "# ========= Change this wave path =========\n",
        "p = \"../test_02.wav\"\n",
        "# =========================================\n",
        "\n",
        "\n",
        "def clamp_int16(x: int) -> int:\n",
        "  \"\"\"Clamp int within int16.\n",
        "\n",
        "  `numpy.short`: 16-bit signed integer, {x∈ℤ|-32768≦x≦32767}\n",
        "  \"\"\"\n",
        "  return min([max([x, -32768]), 32767])\n",
        "\n",
        "def audio_sample_fp32_to_int16(sample: float) -> int:\n",
        "  \"\"\"[-1, 1) to [-2^15, 2^15)\"\"\"\n",
        "  return clamp_int16(round(2**15 * sample))\n",
        "\n",
        "def audio_fp32_to_int16(audio):\n",
        "  return np.array([audio_sample_fp32_to_int16(s) for s in audio], dtype=np.int16)\n",
        "\n",
        "\n",
        "# `input.pcm` should be 16bit/16kHz PCM\n",
        "audio_float, sr = librosa.load(p, sr=16000, mono=True)\n",
        "audio_pcm = audio_fp32_to_int16(audio_float)\n",
        "print(audio_pcm)\n",
        "audio_pcm.tofile(\"./input.pcm\")"
      ],
      "metadata": {
        "id": "H1it2NAuVK6z"
      },
      "execution_count": null,
      "outputs": []
    },
    {
      "cell_type": "markdown",
      "source": [
        "### Demo - Speech Compression\n",
        "wave -> (compression) -> codes -> (decompression) -> wave"
      ],
      "metadata": {
        "id": "IXPrfRZ0A0NE"
      }
    },
    {
      "cell_type": "code",
      "source": [
        "# Encode `input.pcm` (16bit/16kHz PCM, machine endian)\n",
        "#   to `compressed.bin` (8 bytes per 40-ms packet, raw, no header)\n",
        "!./lpcnet_demo -encode input.pcm compressed.bin\n",
        "\n",
        "# Decode `compressed.bin` to `output.pcm` (16bit/16kHz PCM)\n",
        "!./lpcnet_demo -decode compressed.bin output.pcm\n",
        "\n",
        "\n",
        "from IPython.display import Audio, display\n",
        "\n",
        "i = np.fromfile(\"./input.pcm\",  dtype=np.int16)\n",
        "o = np.fromfile(\"./output.pcm\", dtype=np.int16)\n",
        "\n",
        "print(\"Before:\")\n",
        "display(Audio(i,   rate=16000))\n",
        "print(\"After:\")\n",
        "display(Audio(o,   rate=16000))"
      ],
      "metadata": {
        "id": "s5XlePmGA27w"
      },
      "execution_count": null,
      "outputs": []
    },
    {
      "cell_type": "markdown",
      "source": [
        "### Demo - Speech Synthesis\n",
        "wave -> (analysis) -> uncompressed_feature -> (synthesis) -> wave"
      ],
      "metadata": {
        "id": "5o4RurC_Rw8O"
      }
    },
    {
      "cell_type": "code",
      "source": [
        "import time\n",
        "\n",
        "\n",
        "# (maybe) Feature-rize\n",
        "!./lpcnet_demo -features  input.pcm uncompressed.bin\n",
        "\n",
        "# Synthesis\n",
        "t_start = time.perf_counter()\n",
        "!./lpcnet_demo -synthesis uncompressed.bin output_resynth.pcm\n",
        "t_end = time.perf_counter()\n",
        "t_sec = t_end - t_start\n",
        "\n",
        "\n",
        "from IPython.display import Audio, display\n",
        "\n",
        "i = np.fromfile(\"./input.pcm\",          dtype=np.int16)\n",
        "o = np.fromfile(\"./output_resynth.pcm\", dtype=np.int16)\n",
        "\n",
        "print(\"Before:\")\n",
        "display(Audio(i,   rate=16000))\n",
        "print(\"After:\")\n",
        "display(Audio(o,   rate=16000))\n",
        "\n",
        "\n",
        "sr=16000\n",
        "audio_length_sec = o.shape[0] / sr\n",
        "print(f\"time: {round(t_sec, 2)} sec for {round(audio_length_sec, 2)} sec audio\")\n",
        "print(f\"RTF: {round(t_sec/audio_length_sec, 2)}\")"
      ],
      "metadata": {
        "id": "Ax_lO4NUR0Wn"
      },
      "execution_count": null,
      "outputs": []
    },
    {
      "cell_type": "markdown",
      "source": [
        "## -"
      ],
      "metadata": {
        "id": "4PHYngH6KGqZ"
      }
    },
    {
      "cell_type": "code",
      "source": [
        "def clamp_int16(x: int) -> int:\n",
        "  return min([max([x, -32768]), 32767])\n",
        "\n",
        "print(\"test start...\")\n",
        "assert clamp_int16(-32769) == -32768, \"clamp_int16 work wrong\"\n",
        "assert clamp_int16(-32768) == -32768, \"clamp_int16 work wrong\"\n",
        "assert clamp_int16(-32767) == -32767, \"clamp_int16 work wrong\"\n",
        "assert clamp_int16(     0) ==      0, \"clamp_int16 work wrong\"\n",
        "assert clamp_int16(     1) ==      1, \"clamp_int16 work wrong\"\n",
        "assert clamp_int16( 32766) ==  32766, \"clamp_int16 work wrong\"\n",
        "assert clamp_int16( 32767) ==  32767, \"clamp_int16 work wrong\"\n",
        "assert clamp_int16( 32768) ==  32767, \"clamp_int16 work wrong\"\n",
        "print(\"test finished.\")"
      ],
      "metadata": {
        "id": "6iC1n_lJKGCH"
      },
      "execution_count": null,
      "outputs": []
    }
  ],
  "metadata": {
    "colab": {
      "collapsed_sections": [],
      "name": "LPCNet.ipynb",
      "provenance": [],
      "private_outputs": true
    },
    "kernelspec": {
      "display_name": "Python 3",
      "name": "python3"
    }
  },
  "nbformat": 4,
  "nbformat_minor": 0
}